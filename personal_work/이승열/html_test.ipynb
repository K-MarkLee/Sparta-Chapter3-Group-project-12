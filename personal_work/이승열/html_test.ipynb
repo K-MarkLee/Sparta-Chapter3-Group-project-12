{
 "cells": [
  {
   "cell_type": "code",
   "execution_count": 48,
   "metadata": {},
   "outputs": [
    {
     "name": "stdout",
     "output_type": "stream",
     "text": [
      "Unexpected exception formatting exception. Falling back to standard exception\n"
     ]
    },
    {
     "name": "stderr",
     "output_type": "stream",
     "text": [
      "Traceback (most recent call last):\n",
      "  File \"c:\\Users\\vulca\\.conda\\envs\\Mark\\lib\\site-packages\\transformers\\utils\\import_utils.py\", line 1764, in _get_module\n",
      "  File \"c:\\Users\\vulca\\.conda\\envs\\Mark\\lib\\importlib\\__init__.py\", line 127, in import_module\n",
      "    return _bootstrap._gcd_import(name[level:], package, level)\n",
      "  File \"<frozen importlib._bootstrap>\", line 1030, in _gcd_import\n",
      "  File \"<frozen importlib._bootstrap>\", line 1007, in _find_and_load\n",
      "  File \"<frozen importlib._bootstrap>\", line 984, in _find_and_load_unlocked\n",
      "ModuleNotFoundError: No module named 'transformers.pipelines'\n",
      "\n",
      "The above exception was the direct cause of the following exception:\n",
      "\n",
      "Traceback (most recent call last):\n",
      "  File \"c:\\Users\\vulca\\.conda\\envs\\Mark\\lib\\site-packages\\IPython\\core\\interactiveshell.py\", line 3550, in run_code\n",
      "    exec(code_obj, self.user_global_ns, self.user_ns)\n",
      "  File \"C:\\Users\\vulca\\AppData\\Local\\Temp\\ipykernel_34000\\1284879499.py\", line 4, in <module>\n",
      "    from transformers import pipeline\n",
      "  File \"<frozen importlib._bootstrap>\", line 1055, in _handle_fromlist\n",
      "  File \"c:\\Users\\vulca\\.conda\\envs\\Mark\\lib\\site-packages\\transformers\\utils\\import_utils.py\", line 1754, in __getattr__\n",
      "  File \"c:\\Users\\vulca\\.conda\\envs\\Mark\\lib\\site-packages\\transformers\\utils\\import_utils.py\", line 1766, in _get_module\n",
      "RuntimeError: Failed to import transformers.pipelines because of the following error (look up to see its traceback):\n",
      "No module named 'transformers.pipelines'\n",
      "\n",
      "During handling of the above exception, another exception occurred:\n",
      "\n",
      "Traceback (most recent call last):\n",
      "  File \"c:\\Users\\vulca\\.conda\\envs\\Mark\\lib\\site-packages\\IPython\\core\\interactiveshell.py\", line 2144, in showtraceback\n",
      "    stb = self.InteractiveTB.structured_traceback(\n",
      "  File \"c:\\Users\\vulca\\.conda\\envs\\Mark\\lib\\site-packages\\IPython\\core\\ultratb.py\", line 1435, in structured_traceback\n",
      "    return FormattedTB.structured_traceback(\n",
      "  File \"c:\\Users\\vulca\\.conda\\envs\\Mark\\lib\\site-packages\\IPython\\core\\ultratb.py\", line 1326, in structured_traceback\n",
      "    return VerboseTB.structured_traceback(\n",
      "  File \"c:\\Users\\vulca\\.conda\\envs\\Mark\\lib\\site-packages\\IPython\\core\\ultratb.py\", line 1173, in structured_traceback\n",
      "    formatted_exception = self.format_exception_as_a_whole(etype, evalue, etb, number_of_lines_of_context,\n",
      "  File \"c:\\Users\\vulca\\.conda\\envs\\Mark\\lib\\site-packages\\IPython\\core\\ultratb.py\", line 1088, in format_exception_as_a_whole\n",
      "    frames.append(self.format_record(record))\n",
      "  File \"c:\\Users\\vulca\\.conda\\envs\\Mark\\lib\\site-packages\\IPython\\core\\ultratb.py\", line 970, in format_record\n",
      "    frame_info.lines, Colors, self.has_colors, lvals\n",
      "  File \"c:\\Users\\vulca\\.conda\\envs\\Mark\\lib\\site-packages\\IPython\\core\\ultratb.py\", line 792, in lines\n",
      "    return self._sd.lines\n",
      "  File \"c:\\Users\\vulca\\.conda\\envs\\Mark\\lib\\site-packages\\stack_data\\utils.py\", line 144, in cached_property_wrapper\n",
      "    value = obj.__dict__[self.func.__name__] = self.func(obj)\n",
      "  File \"c:\\Users\\vulca\\.conda\\envs\\Mark\\lib\\site-packages\\stack_data\\core.py\", line 734, in lines\n",
      "    pieces = self.included_pieces\n",
      "  File \"c:\\Users\\vulca\\.conda\\envs\\Mark\\lib\\site-packages\\stack_data\\utils.py\", line 144, in cached_property_wrapper\n",
      "    value = obj.__dict__[self.func.__name__] = self.func(obj)\n",
      "  File \"c:\\Users\\vulca\\.conda\\envs\\Mark\\lib\\site-packages\\stack_data\\core.py\", line 681, in included_pieces\n",
      "    pos = scope_pieces.index(self.executing_piece)\n",
      "  File \"c:\\Users\\vulca\\.conda\\envs\\Mark\\lib\\site-packages\\stack_data\\utils.py\", line 144, in cached_property_wrapper\n",
      "    value = obj.__dict__[self.func.__name__] = self.func(obj)\n",
      "  File \"c:\\Users\\vulca\\.conda\\envs\\Mark\\lib\\site-packages\\stack_data\\core.py\", line 660, in executing_piece\n",
      "    return only(\n",
      "  File \"c:\\Users\\vulca\\.conda\\envs\\Mark\\lib\\site-packages\\executing\\executing.py\", line 116, in only\n",
      "    raise NotOneValueFound('Expected one value, found 0')\n",
      "executing.executing.NotOneValueFound: Expected one value, found 0\n"
     ]
    }
   ],
   "source": [
    "import requests\n",
    "from bs4 import BeautifulSoup\n",
    "import re\n",
    "from transformers import pipeline"
   ]
  },
  {
   "cell_type": "code",
   "execution_count": 37,
   "metadata": {},
   "outputs": [],
   "source": [
    "urls = [\"https://www.10000recipe.com/recipe/6966065\",\"https://www.10000recipe.com/recipe/7035971\"]\n",
    "headers = {\"User-Agent\": \"Mozilla/5.0 (Windows NT 10.0; Win64; x64) AppleWebKit/537.36 (KHTML, like Gecko) Chrome/91.0.4472.124 Safari/537.36\"}\n"
   ]
  },
  {
   "cell_type": "code",
   "execution_count": null,
   "metadata": {},
   "outputs": [],
   "source": []
  },
  {
   "cell_type": "code",
   "execution_count": null,
   "metadata": {},
   "outputs": [],
   "source": [
    "# 음식 이름 추출 함수\n",
    "def extract_food_name(name):\n",
    "    # 정규식으로 불필요한 수식 제거 (예: \"정말 맛있는\", \"레시피\", \"간단한 한끼로 딱\")\n",
    "    cleaned_title = re.sub(r\"정말 맛있는|레시피|간단한 한끼로 딱|!\", \"\", name)\n",
    "    \n",
    "    # 음식 이름 패턴 추출 (예: 우삼겹 덮밥 규동, 김치찌개, 파스타)\n",
    "    match = re.search(r\"[가-힣\\s]+\", cleaned_title.strip())  # 한글 + 공백 추출\n",
    "    if match:\n",
    "        return match.group(0).strip()\n",
    "    return None"
   ]
  },
  {
   "cell_type": "code",
   "execution_count": 43,
   "metadata": {},
   "outputs": [
    {
     "name": "stdout",
     "output_type": "stream",
     "text": [
      "제목 : 정말 맛있는 우삼겹 덮밥 규동 레시피! 간단한 한끼로 딱입니다. -> 추출한 음식명 : 우삼겹 덮밥 규동  입니다\n",
      "제목 : 흑백요리사 라면팟타이(요리하는 돌아이님) -> 추출한 음식명 : 흑백요리사 라면팟타이\n"
     ]
    }
   ],
   "source": [
    "for url in urls:    \n",
    "    response = requests.get(url,headers=headers)\n",
    "    if response.status_code == 200:\n",
    "\n",
    "        soup = BeautifulSoup(response.text, \"html.parser\")\n",
    "\n",
    "        target_div = soup.find(\"div\", class_=\"view2_summary st3\")  \n",
    "        if target_div:\n",
    "            target_h3 = target_div.find(\"h3\") \n",
    "            if target_h3:\n",
    "                name = target_h3.get_text() \n",
    "                food_name = extract_food_name(name)\n",
    "                if food_name:\n",
    "                    print(f\"제목 : {name} -> 추출한 음식명 : {food_name}\")\n",
    "            else:\n",
    "                print(\"h3 태그를 찾을 수 없습니다.\")\n",
    "        else:\n",
    "            print(\"div 태그를 찾을 수 없습니다.\")\n",
    "    else:\n",
    "        print(response.status_code)"
   ]
  },
  {
   "cell_type": "code",
   "execution_count": 44,
   "metadata": {},
   "outputs": [
    {
     "name": "stdout",
     "output_type": "stream",
     "text": [
      "제목: 정말 맛있는 우삼겹 덮밥 규동 레시피! 간단한 한끼로 딱입니다. -> 음식 이름: 우삼겹 덮밥 규동  입니다\n",
      "제목: 동영상 -> 음식 이름: 동영상\n",
      "제목: 최근 본 레시피 -> 음식 이름: 최근 본\n",
      "제목: 흑백요리사 라면팟타이(요리하는 돌아이님) -> 음식 이름: 흑백요리사 라면팟타이\n",
      "제목: 최근 본 레시피 -> 음식 이름: 최근 본\n"
     ]
    }
   ],
   "source": [
    "\n",
    "\n",
    "\n",
    "\n",
    "# 페이지에서 데이터 추출\n",
    "for url in urls:\n",
    "    response = requests.get(url)\n",
    "    if response.status_code == 200:\n",
    "        soup = BeautifulSoup(response.text, \"html.parser\")\n",
    "        h3_tags = soup.find_all(\"h3\")  # 모든 h3 태그 추출\n",
    "\n",
    "        for h3 in h3_tags:\n",
    "            title = h3.get_text()\n",
    "            food_name = extract_food_name(title)\n",
    "            if food_name:\n",
    "                print(f\"제목: {title} -> 음식 이름: {food_name}\")\n",
    "    else:\n",
    "        print(f\"Failed to fetch the page: {url}\")\n"
   ]
  },
  {
   "cell_type": "code",
   "execution_count": null,
   "metadata": {},
   "outputs": [],
   "source": []
  }
 ],
 "metadata": {
  "kernelspec": {
   "display_name": "Mark",
   "language": "python",
   "name": "python3"
  },
  "language_info": {
   "codemirror_mode": {
    "name": "ipython",
    "version": 3
   },
   "file_extension": ".py",
   "mimetype": "text/x-python",
   "name": "python",
   "nbconvert_exporter": "python",
   "pygments_lexer": "ipython3",
   "version": "3.9.20"
  }
 },
 "nbformat": 4,
 "nbformat_minor": 2
}
